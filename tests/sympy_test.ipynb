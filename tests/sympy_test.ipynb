{
 "cells": [
  {
   "cell_type": "code",
   "execution_count": 6,
   "id": "adf5f334",
   "metadata": {},
   "outputs": [],
   "source": [
    "from trip_kinematics.HomogenTransformationMatrix import TransformationMatrix\n",
    "from trip_kinematics.KinematicGroup import KinematicGroup, Transformation\n",
    "import sympy as sp\n",
    "from scipy.optimize import minimize"
   ]
  },
  {
   "cell_type": "code",
   "execution_count": 7,
   "id": "172e0ce0",
   "metadata": {},
   "outputs": [
    {
     "name": "stdout",
     "output_type": "stream",
     "text": [
      "{'rx': 0, 'ry': 0, 'rz': 0}\n",
      "{'rx': 1, 'ry': 0, 'rz': 0}\n"
     ]
    }
   ],
   "source": [
    "A = Transformation(name='gimbal_joint',values={'rx': 0, 'ry': 0, 'rz': 0}, state_variables=['rx', 'ry', 'rz'])\n",
    "print(A.state)\n",
    "A.set_state({\"rx\" :1})\n",
    "print(A.state)"
   ]
  },
  {
   "cell_type": "code",
   "execution_count": 8,
   "id": "d8a6d542",
   "metadata": {},
   "outputs": [
    {
     "name": "stdout",
     "output_type": "stream",
     "text": [
      "<function _lambdifygenerated at 0x0000023541C1CD30>\n",
      "      fun: 1.0\n",
      " hess_inv: array([[1, 0, 0],\n",
      "       [0, 1, 0],\n",
      "       [0, 0, 1]])\n",
      "      jac: array([ 0.0000000e+00, -7.4505806e-09, -7.4505806e-09])\n",
      "  message: 'Optimization terminated successfully.'\n",
      "     nfev: 4\n",
      "      nit: 0\n",
      "     njev: 1\n",
      "   status: 0\n",
      "  success: True\n",
      "        x: array([0., 0., 0.])\n"
     ]
    }
   ],
   "source": [
    "state=A.get_symbolic_state()\n",
    "A.set_state(state)\n",
    "Trafo=A.get_transformation_matrix()\n",
    "\n",
    "# create function of from symbolic representation\n",
    "orientation = sp.lambdify([state.values()],Trafo.get_rotation()[0][0])\n",
    "print(orientation)\n",
    "x_0 = [0,0,0]\n",
    "#orientation(x_0)\n",
    "solution = minimize(orientation,x_0)\n",
    "\n",
    "print(solution)"
   ]
  },
  {
   "cell_type": "code",
   "execution_count": 9,
   "id": "ff06d624",
   "metadata": {},
   "outputs": [
    {
     "name": "stdout",
     "output_type": "stream",
     "text": [
      "['bla', 'blu']\n",
      "[['gimbal_joint', 'rx'], ['gimbal_joint', 'ry']]\n",
      "bla\n"
     ]
    }
   ],
   "source": [
    "test = {'A_CSS_P_trans': {}, 'gimbal_joint': {'rx': \"bla\", 'ry': \"blu\"}}\n",
    "sym_test = {'A_CSS_P_trans': {}, 'gimbal_joint': {'rx': \"symbol_1\", 'ry': \"symbol_2\"}}\n",
    "values = []\n",
    "state_keys= []\n",
    "for keys in test.keys():\n",
    "    inner_dictionary = test[keys]\n",
    "    for inner_keys in inner_dictionary.keys():\n",
    "        values.append(inner_dictionary[inner_keys])\n",
    "        state_keys.append([keys,inner_keys])\n",
    "print(values)\n",
    "print(state_keys)\n",
    "print(test['gimbal_joint']['rx'])"
   ]
  },
  {
   "cell_type": "markdown",
   "id": "99a6fea2",
   "metadata": {},
   "source": [
    "$$\\mathtt{\\text{[[cos(ry\\_\\{gimbal\\_joint\\})*cos(rz\\_\\{gimbal\\_joint\\})\n",
    "  -sin(rz\\_\\{gimbal\\_joint\\})*cos(ry\\_\\{gimbal\\_joint\\}) sin(ry\\_\\{gimbal\\_joint\\}) 0]\n",
    " [sin(rx\\_\\{gimbal\\_joint\\})*sin(ry\\_\\{gimbal\\_joint\\})*cos(rz\\_\\{gimbal\\_joint\\}) + sin(rz\\_\\{gimbal\\_joint\\})*cos(rx\\_\\{gimbal\\_joint\\})\n",
    "  -sin(rx\\_\\{gimbal\\_joint\\})*sin(ry\\_\\{gimbal\\_joint\\})*sin(rz\\_\\{gimbal\\_joint\\}) + cos(rx\\_\\{gimbal\\_joint\\})*cos(rz\\_\\{gimbal\\_joint\\})\n",
    "  -sin(rx\\_\\{gimbal\\_joint\\})*cos(ry\\_\\{gimbal\\_joint\\}) 0]\n",
    " [sin(rx\\_\\{gimbal\\_joint\\})*sin(rz\\_\\{gimbal\\_joint\\}) - sin(ry\\_\\{gimbal\\_joint\\})*cos(rx\\_\\{gimbal\\_joint\\})*cos(rz\\_\\{gimbal\\_joint\\})\n",
    "  sin(rx\\_\\{gimbal\\_joint\\})*cos(rz\\_\\{gimbal\\_joint\\}) + sin(ry\\_\\{gimbal\\_joint\\})*sin(rz\\_\\{gimbal\\_joint\\})*cos(rx\\_\\{gimbal\\_joint\\})\n",
    "  cos(rx\\_\\{gimbal\\_joint\\})*cos(ry\\_\\{gimbal\\_joint\\}) 0]\n",
    " [0.0 0.0 0.0 1.0]]}}$$"
   ]
  },
  {
   "cell_type": "markdown",
   "id": "dfd7f775",
   "metadata": {},
   "source": [
    "### Idee erlaube transformation selbst symbolische representation zu returnen!"
   ]
  },
  {
   "cell_type": "code",
   "execution_count": 10,
   "id": "ffdf4beb",
   "metadata": {},
   "outputs": [],
   "source": [
    "def get_symbolic_rep(transformation):\n",
    "    return 0"
   ]
  }
 ],
 "metadata": {
  "kernelspec": {
   "display_name": "Python 3",
   "language": "python",
   "name": "python3"
  },
  "language_info": {
   "codemirror_mode": {
    "name": "ipython",
    "version": 3
   },
   "file_extension": ".py",
   "mimetype": "text/x-python",
   "name": "python",
   "nbconvert_exporter": "python",
   "pygments_lexer": "ipython3",
   "version": "3.8.8"
  }
 },
 "nbformat": 4,
 "nbformat_minor": 5
}
