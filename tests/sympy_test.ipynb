{
 "cells": [
  {
   "cell_type": "code",
   "execution_count": 1,
   "id": "adf5f334",
   "metadata": {},
   "outputs": [],
   "source": [
    "from trip_kinematics.HomogenTransformationMatrix import TransformationMatrix\n",
    "from trip_kinematics.KinematicGroup import KinematicGroup, Transformation\n",
    "import sympy as sp\n",
    "from scipy.optimize import minimize"
   ]
  },
  {
   "cell_type": "code",
   "execution_count": 2,
   "id": "172e0ce0",
   "metadata": {},
   "outputs": [
    {
     "name": "stdout",
     "output_type": "stream",
     "text": [
      "{'rx': 0, 'ry': 0, 'rz': 0}\n",
      "{'rx': 1, 'ry': 0, 'rz': 0}\n"
     ]
    }
   ],
   "source": [
    "A = Transformation(name='gimbal_joint',values={'rx': 0, 'ry': 0, 'rz': 0}, state_variables=['rx', 'ry', 'rz'])\n",
    "print(A.state)\n",
    "A.set_state({\"rx\" :1})\n",
    "print(A.state)"
   ]
  },
  {
   "cell_type": "code",
   "execution_count": 3,
   "id": "df259741",
   "metadata": {},
   "outputs": [
    {
     "name": "stdout",
     "output_type": "stream",
     "text": [
      "rx_{gimbal_joint}\n",
      "<function _lambdifygenerated at 0x000001DA465C1160>\n",
      "      fun: 1.0\n",
      " hess_inv: array([[1, 0, 0],\n",
      "       [0, 1, 0],\n",
      "       [0, 0, 1]])\n",
      "      jac: array([ 0.0000000e+00, -7.4505806e-09, -7.4505806e-09])\n",
      "  message: 'Optimization terminated successfully.'\n",
      "     nfev: 4\n",
      "      nit: 0\n",
      "     njev: 1\n",
      "   status: 0\n",
      "  success: True\n",
      "        x: array([0., 0., 0.])\n"
     ]
    }
   ],
   "source": [
    "state=A.get_symbolic_state()\n",
    "print(state['rx'])\n",
    "A.set_state(state)\n",
    "Trafo=A.get_transformation_matrix()\n",
    "\n",
    "# create function of from symbolic representation\n",
    "orientation = sp.lambdify([state.values()],Trafo.get_rotation()[0][0])\n",
    "print(orientation)\n",
    "x_0 = [0,0,0]\n",
    "#orientation(x_0)\n",
    "solution = minimize(orientation,x_0)\n",
    "\n",
    "print(solution)"
   ]
  },
  {
   "cell_type": "code",
   "execution_count": 4,
   "id": "8db35706",
   "metadata": {},
   "outputs": [
    {
     "name": "stdout",
     "output_type": "stream",
     "text": [
      "['bla', 'blu']\n",
      "[['gimbal_joint', 'rx'], ['gimbal_joint', 'ry']]\n",
      "bla\n"
     ]
    }
   ],
   "source": [
    "test = {'A_CSS_P_trans': {}, 'gimbal_joint': {'rx': \"bla\", 'ry': \"blu\"}}\n",
    "sym_test = {'A_CSS_P_trans': {}, 'gimbal_joint': {'rx': \"symbol_1\", 'ry': \"symbol_2\"}}\n",
    "values = []\n",
    "state_keys= []\n",
    "for keys in test.keys():\n",
    "    inner_dictionary = test[keys]\n",
    "    for inner_keys in inner_dictionary.keys():\n",
    "        values.append(inner_dictionary[inner_keys])\n",
    "        state_keys.append([keys,inner_keys])\n",
    "print(values)\n",
    "print(state_keys)\n",
    "print(test['gimbal_joint']['rx'])"
   ]
  },
  {
   "cell_type": "markdown",
   "id": "77fbbbb0",
   "metadata": {},
   "source": [
    "$$\\mathtt{\\text{[[cos(ry\\_\\{gimbal\\_joint\\})*cos(rz\\_\\{gimbal\\_joint\\})\n",
    "  -sin(rz\\_\\{gimbal\\_joint\\})*cos(ry\\_\\{gimbal\\_joint\\}) sin(ry\\_\\{gimbal\\_joint\\}) 0]\n",
    " [sin(rx\\_\\{gimbal\\_joint\\})*sin(ry\\_\\{gimbal\\_joint\\})*cos(rz\\_\\{gimbal\\_joint\\}) + sin(rz\\_\\{gimbal\\_joint\\})*cos(rx\\_\\{gimbal\\_joint\\})\n",
    "  -sin(rx\\_\\{gimbal\\_joint\\})*sin(ry\\_\\{gimbal\\_joint\\})*sin(rz\\_\\{gimbal\\_joint\\}) + cos(rx\\_\\{gimbal\\_joint\\})*cos(rz\\_\\{gimbal\\_joint\\})\n",
    "  -sin(rx\\_\\{gimbal\\_joint\\})*cos(ry\\_\\{gimbal\\_joint\\}) 0]\n",
    " [sin(rx\\_\\{gimbal\\_joint\\})*sin(rz\\_\\{gimbal\\_joint\\}) - sin(ry\\_\\{gimbal\\_joint\\})*cos(rx\\_\\{gimbal\\_joint\\})*cos(rz\\_\\{gimbal\\_joint\\})\n",
    "  sin(rx\\_\\{gimbal\\_joint\\})*cos(rz\\_\\{gimbal\\_joint\\}) + sin(ry\\_\\{gimbal\\_joint\\})*sin(rz\\_\\{gimbal\\_joint\\})*cos(rx\\_\\{gimbal\\_joint\\})\n",
    "  cos(rx\\_\\{gimbal\\_joint\\})*cos(ry\\_\\{gimbal\\_joint\\}) 0]\n",
    " [0.0 0.0 0.0 1.0]]}}$$"
   ]
  },
  {
   "cell_type": "markdown",
   "id": "dfd7f775",
   "metadata": {},
   "source": [
    "### Idee erlaube transformation selbst symbolische representation zu returnen!"
   ]
  },
  {
   "cell_type": "code",
   "execution_count": 5,
   "id": "ffdf4beb",
   "metadata": {},
   "outputs": [
    {
     "name": "stdout",
     "output_type": "stream",
     "text": [
      "Calculated state values do not match given values! Using set_state() before forward_kinematics() or inverse_kinematics() is recommended.\n"
     ]
    }
   ],
   "source": [
    "from examples.triped import triped_leg\n",
    "matrix, symbolic_state_dict = triped_leg.get_symbolic_rep()\n",
    "forward_kin=matrix\n"
   ]
  },
  {
   "cell_type": "code",
   "execution_count": 6,
   "id": "1a239b40",
   "metadata": {},
   "outputs": [
    {
     "ename": "AttributeError",
     "evalue": "'numpy.ndarray' object has no attribute 'Jacobian'",
     "output_type": "error",
     "traceback": [
      "\u001b[1;31m---------------------------------------------------------------------------\u001b[0m",
      "\u001b[1;31mAttributeError\u001b[0m                            Traceback (most recent call last)",
      "\u001b[1;32m<ipython-input-6-476ba1068c06>\u001b[0m in \u001b[0;36m<module>\u001b[1;34m\u001b[0m\n\u001b[1;32m----> 1\u001b[1;33m \u001b[0mforward_kin\u001b[0m\u001b[1;33m.\u001b[0m\u001b[0mJacobian\u001b[0m\u001b[1;33m\u001b[0m\u001b[1;33m\u001b[0m\u001b[0m\n\u001b[0m",
      "\u001b[1;31mAttributeError\u001b[0m: 'numpy.ndarray' object has no attribute 'Jacobian'"
     ]
    }
   ],
   "source": [
    "forward_kin.Jacobian"
   ]
  },
  {
   "cell_type": "code",
   "execution_count": null,
   "id": "62a9a76a",
   "metadata": {},
   "outputs": [],
   "source": []
  },
  {
   "cell_type": "code",
   "execution_count": null,
   "id": "d0abec19",
   "metadata": {},
   "outputs": [],
   "source": [
    "import csv\n",
    "import os\n",
    "def read_csv(filename, dtype=float):\n",
    "    with open(filename) as csvfile:\n",
    "        reader = csv.reader(csvfile, delimiter=',')\n",
    "        first = True\n",
    "        lst = []\n",
    "        rows = 0\n",
    "        for row in reader:\n",
    "            try:\n",
    "                if first:\n",
    "                    rows = len(row)\n",
    "                    for i in range(rows):\n",
    "                        lst.append([])\n",
    "                    first = False\n",
    "\n",
    "                for j in range(rows):\n",
    "                    lst[j].append(float(row[j]))\n",
    "            except:\n",
    "                continue\n",
    "        return lst\n",
    "    \n",
    "robot_type = \"triped_leg\"\n",
    "inverse_reference   = read_csv(os.path.join('experiments',robot_type,'reference_solution','endeffector_coordinates.csv'))\n",
    "inverse_calculated  = read_csv(os.path.join('experiments',robot_type,\"forward_kinematics\",'endeffector_coordinates.csv'))\n",
    "\n",
    "import matplotlib.pyplot as plt\n",
    "\n",
    "reference_sl = inverse_reference[0] \n",
    "reference_e  = inverse_reference[1] \n",
    "reference_sr = inverse_reference[2] \n",
    "\n",
    "calculated_sl = inverse_calculated[0] \n",
    "calculated_e  = inverse_calculated[1] \n",
    "calculated_sr = inverse_calculated[2] \n",
    "\n",
    "plt.plot(reference_sl,label=\"true sl\")\n",
    "plt.plot(reference_e,label=\"true e\")\n",
    "plt.plot(reference_sr,label=\"true sr\")\n",
    "\n",
    "plt.plot(calculated_sl,label=\"calc sl\")\n",
    "plt.plot(calculated_e,label=\"calc e\")\n",
    "plt.plot(calculated_sr,label=\"calc sr\")\n",
    "plt.legend()\n",
    "plt.show()"
   ]
  },
  {
   "cell_type": "code",
   "execution_count": null,
   "id": "2ee42fe6",
   "metadata": {},
   "outputs": [],
   "source": [
    "import numpy as np\n",
    "a=np.array([0,1,2])\n",
    "b= 2*a\n",
    "b-a"
   ]
  },
  {
   "cell_type": "code",
   "execution_count": null,
   "id": "e94b47c0",
   "metadata": {},
   "outputs": [],
   "source": []
  }
 ],
 "metadata": {
  "kernelspec": {
   "display_name": "Python 3",
   "language": "python",
   "name": "python3"
  },
  "language_info": {
   "codemirror_mode": {
    "name": "ipython",
    "version": 3
   },
   "file_extension": ".py",
   "mimetype": "text/x-python",
   "name": "python",
   "nbconvert_exporter": "python",
   "pygments_lexer": "ipython3",
   "version": "3.8.8"
  }
 },
 "nbformat": 4,
 "nbformat_minor": 5
}
